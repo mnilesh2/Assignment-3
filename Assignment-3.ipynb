{
 "cells": [
  {
   "cell_type": "code",
   "execution_count": 3,
   "id": "7a0787d4-b308-4170-ad56-db7183ec0e8b",
   "metadata": {},
   "outputs": [
    {
     "name": "stdout",
     "output_type": "stream",
     "text": [
      "F1 Score with interaction terms: 0.23497446386597046\n"
     ]
    }
   ],
   "source": [
    "from sklearn.ensemble import RandomForestClassifier\n",
    "from sklearn.metrics import f1_score\n",
    "from sklearn.model_selection import train_test_split\n",
    "from sklearn.preprocessing import LabelEncoder, MinMaxScaler, PolynomialFeatures\n",
    "import pandas as pd\n",
    "import re\n",
    "\n",
    "# Load the training data\n",
    "df = pd.read_csv('train.csv')\n",
    "\n",
    "# Preprocess 'Total Assets' and 'Liabilities' columns\n",
    "df['Total Assets'] = df['Total Assets'].apply(lambda x: float(re.sub('[^0-9.]', '', str(x))))\n",
    "df['Liabilities'] = df['Liabilities'].apply(lambda x: float(re.sub('[^0-9.]', '', str(x))))\n",
    "\n",
    "# Encode 'Party' column\n",
    "label_encoder_party = LabelEncoder()\n",
    "df['Party'] = label_encoder_party.fit_transform(df['Party'])\n",
    "\n",
    "# Create a dictionary to map states to integers\n",
    "state_to_int = {state: idx for idx, state in enumerate(df['state'].unique())}\n",
    "\n",
    "# Replace states with integers\n",
    "df['State_Label'] = df['state'].map(state_to_int)\n",
    "\n",
    "# Define features and target variable\n",
    "X = df[['Criminal Case', 'Total Assets', 'Liabilities', 'Party', 'State_Label']]\n",
    "y = df['Education']\n",
    "\n",
    "# Scale the features between 0 and 1\n",
    "scaler = MinMaxScaler()\n",
    "X_scaled = scaler.fit_transform(X)\n",
    "\n",
    "# Create interaction terms up to the second degree\n",
    "poly = PolynomialFeatures(2, interaction_only=True)\n",
    "X_interact = poly.fit_transform(X_scaled)\n",
    "\n",
    "# Split the data into training and testing sets\n",
    "X_train_interact, X_test_interact, y_train, y_test = train_test_split(X_interact, y, test_size=0.2, random_state=48)\n",
    "\n",
    "# Initialize the Random Forest Classifier with balanced class weights\n",
    "rf_classifier_interact = RandomForestClassifier(n_estimators=500, max_depth=10, class_weight='balanced', random_state=44)\n",
    "\n",
    "# Train the Random Forest Classifier on data with interaction terms\n",
    "rf_classifier_interact.fit(X_train_interact, y_train)\n",
    "\n",
    "# Predict on the test set with interaction terms\n",
    "y_pred_interact = rf_classifier_interact.predict(X_test_interact)\n",
    "\n",
    "# Calculate F1 score on data with interaction terms\n",
    "f1_interact = f1_score(y_test, y_pred_interact, average='weighted')\n",
    "print(\"F1 Score with interaction terms:\", f1_interact)\n",
    "\n",
    "# Load the test data\n",
    "test_data = pd.read_csv('test.csv')\n",
    "\n",
    "# Preprocess the test data\n",
    "test_data['Total Assets'] = test_data['Total Assets'].apply(lambda x: float(re.sub('[^0-9.]', '', str(x))))\n",
    "test_data['Liabilities'] = test_data['Liabilities'].apply(lambda x: float(re.sub('[^0-9.]', '', str(x))))\n",
    "\n",
    "# Encode 'Party' column in test data\n",
    "test_data['Party'] = label_encoder_party.transform(test_data['Party'])\n",
    "\n",
    "# Replace states in test data with integers using the same dictionary\n",
    "test_data['State_Label'] = test_data['state'].map(state_to_int)\n",
    "\n",
    "# Scale the test data\n",
    "test_data_scaled = scaler.transform(test_data[['Criminal Case', 'Total Assets', 'Liabilities', 'Party', 'State_Label']])\n",
    "\n",
    "# Create interaction terms for the test data\n",
    "test_data_interact = poly.transform(test_data_scaled)\n",
    "\n",
    "# Make predictions on the test data with interaction terms\n",
    "predicted_education_levels_interact = rf_classifier_interact.predict(test_data_interact)\n",
    "\n",
    "# Create a new DataFrame for the predictions\n",
    "predicted_df_interact = pd.DataFrame({'ID': test_data['ID'], 'Predicted_Education': predicted_education_levels_interact})\n",
    "\n"
   ]
  },
  {
   "cell_type": "code",
   "execution_count": null,
   "id": "2ca69a28-a293-4b9b-a255-3035b0fd7835",
   "metadata": {},
   "outputs": [],
   "source": []
  }
 ],
 "metadata": {
  "kernelspec": {
   "display_name": "Python 3 (ipykernel)",
   "language": "python",
   "name": "python3"
  },
  "language_info": {
   "codemirror_mode": {
    "name": "ipython",
    "version": 3
   },
   "file_extension": ".py",
   "mimetype": "text/x-python",
   "name": "python",
   "nbconvert_exporter": "python",
   "pygments_lexer": "ipython3",
   "version": "3.11.3"
  }
 },
 "nbformat": 4,
 "nbformat_minor": 5
}
